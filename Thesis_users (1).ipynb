{
 "cells": [
  {
   "cell_type": "code",
   "execution_count": 4,
   "id": "9df432ab",
   "metadata": {},
   "outputs": [],
   "source": [
    "import pandas as pd"
   ]
  },
  {
   "cell_type": "code",
   "execution_count": 30,
   "id": "c77a8b84",
   "metadata": {},
   "outputs": [
    {
     "data": {
      "text/html": [
       "<div>\n",
       "<style scoped>\n",
       "    .dataframe tbody tr th:only-of-type {\n",
       "        vertical-align: middle;\n",
       "    }\n",
       "\n",
       "    .dataframe tbody tr th {\n",
       "        vertical-align: top;\n",
       "    }\n",
       "\n",
       "    .dataframe thead th {\n",
       "        text-align: right;\n",
       "    }\n",
       "</style>\n",
       "<table border=\"1\" class=\"dataframe\">\n",
       "  <thead>\n",
       "    <tr style=\"text-align: right;\">\n",
       "      <th></th>\n",
       "      <th>users_id</th>\n",
       "      <th>name</th>\n",
       "      <th>username</th>\n",
       "      <th>location</th>\n",
       "      <th>verified</th>\n",
       "    </tr>\n",
       "  </thead>\n",
       "  <tbody>\n",
       "    <tr>\n",
       "      <th>0</th>\n",
       "      <td>10000006818</td>\n",
       "      <td>Tomas</td>\n",
       "      <td>TomasMP5</td>\n",
       "      <td>None</td>\n",
       "      <td>False</td>\n",
       "    </tr>\n",
       "    <tr>\n",
       "      <th>1</th>\n",
       "      <td>10000010391</td>\n",
       "      <td>Castelão</td>\n",
       "      <td>Castelao9</td>\n",
       "      <td>None</td>\n",
       "      <td>False</td>\n",
       "    </tr>\n",
       "    <tr>\n",
       "      <th>2</th>\n",
       "      <td>10000047481</td>\n",
       "      <td>Raquel Stasiaki</td>\n",
       "      <td>RaquelStasiaki</td>\n",
       "      <td>Nova Iguaçu - Rio de Janeiro</td>\n",
       "      <td>False</td>\n",
       "    </tr>\n",
       "    <tr>\n",
       "      <th>3</th>\n",
       "      <td>1000006250</td>\n",
       "      <td>margarida</td>\n",
       "      <td>margaridaf__</td>\n",
       "      <td>None</td>\n",
       "      <td>False</td>\n",
       "    </tr>\n",
       "    <tr>\n",
       "      <th>4</th>\n",
       "      <td>1000006904</td>\n",
       "      <td>José Apparecido</td>\n",
       "      <td>JApparec</td>\n",
       "      <td>None</td>\n",
       "      <td>False</td>\n",
       "    </tr>\n",
       "    <tr>\n",
       "      <th>5</th>\n",
       "      <td>10000082033</td>\n",
       "      <td>ραυłσ</td>\n",
       "      <td>Paulo_05P</td>\n",
       "      <td>Braga</td>\n",
       "      <td>False</td>\n",
       "    </tr>\n",
       "    <tr>\n",
       "      <th>6</th>\n",
       "      <td>1000008756</td>\n",
       "      <td>lésbisca da alma espremida</td>\n",
       "      <td>blckheartd</td>\n",
       "      <td>bh</td>\n",
       "      <td>False</td>\n",
       "    </tr>\n",
       "    <tr>\n",
       "      <th>7</th>\n",
       "      <td>10000117634</td>\n",
       "      <td>Ana Marta</td>\n",
       "      <td>anamartacc71</td>\n",
       "      <td>None</td>\n",
       "      <td>False</td>\n",
       "    </tr>\n",
       "    <tr>\n",
       "      <th>8</th>\n",
       "      <td>10000120858</td>\n",
       "      <td>Léo</td>\n",
       "      <td>LeoFernandezz10</td>\n",
       "      <td>Funchal, Portugal</td>\n",
       "      <td>False</td>\n",
       "    </tr>\n",
       "    <tr>\n",
       "      <th>9</th>\n",
       "      <td>10000122261</td>\n",
       "      <td>????</td>\n",
       "      <td>jpab_50</td>\n",
       "      <td>Alentexas</td>\n",
       "      <td>False</td>\n",
       "    </tr>\n",
       "  </tbody>\n",
       "</table>\n",
       "</div>"
      ],
      "text/plain": [
       "      users_id                        name         username  \\\n",
       "0  10000006818                       Tomas         TomasMP5   \n",
       "1  10000010391                    Castelão        Castelao9   \n",
       "2  10000047481             Raquel Stasiaki   RaquelStasiaki   \n",
       "3   1000006250                   margarida     margaridaf__   \n",
       "4   1000006904             José Apparecido         JApparec   \n",
       "5  10000082033                       ραυłσ        Paulo_05P   \n",
       "6   1000008756  lésbisca da alma espremida       blckheartd   \n",
       "7  10000117634                   Ana Marta     anamartacc71   \n",
       "8  10000120858                         Léo  LeoFernandezz10   \n",
       "9  10000122261                        ????          jpab_50   \n",
       "\n",
       "                        location verified  \n",
       "0                           None    False  \n",
       "1                           None    False  \n",
       "2  Nova Iguaçu - Rio de Janeiro     False  \n",
       "3                           None    False  \n",
       "4                           None    False  \n",
       "5                          Braga    False  \n",
       "6                             bh    False  \n",
       "7                           None    False  \n",
       "8              Funchal, Portugal    False  \n",
       "9                      Alentexas    False  "
      ]
     },
     "execution_count": 30,
     "metadata": {},
     "output_type": "execute_result"
    }
   ],
   "source": [
    "df =  pd.read_csv('users.csv',  sep=';;', on_bad_lines='skip',lineterminator='\\r', engine ='python')\n",
    "df.head(10)"
   ]
  },
  {
   "cell_type": "code",
   "execution_count": 29,
   "id": "1accf439",
   "metadata": {
    "scrolled": true
   },
   "outputs": [
    {
     "name": "stdout",
     "output_type": "stream",
     "text": [
      "Number of Verified Twitter accounts: 2570\n",
      "Number of Not Verified Twitter accounts: 205502\n"
     ]
    }
   ],
   "source": [
    "df = pd.read_csv('users.csv', sep=';;', on_bad_lines='skip', lineterminator='\\r', engine='python')\n",
    "\n",
    "# Count the number of 'True' and 'False' in the 'verified' column\n",
    "true_count = (df['verified'] == 'True').sum()\n",
    "false_count = (df['verified'] == 'False').sum()\n",
    "\n",
    "print(f\"Number of Verified Twitter accounts: {true_count}\")\n",
    "print(f\"Number of Not Verified Twitter accounts: {false_count}\")"
   ]
  },
  {
   "cell_type": "code",
   "execution_count": 28,
   "id": "2bf35886",
   "metadata": {},
   "outputs": [
    {
     "name": "stdout",
     "output_type": "stream",
     "text": [
      "Percentage of Verified Twitter accounts: 1.23%\n",
      "Percentage of Not Verified Twitter accounts: 98.72%\n"
     ]
    }
   ],
   "source": [
    "# Percentages\n",
    "percentage_true = (true_count / total_rows) * 100\n",
    "percentage_false = (false_count / total_rows) * 100\n",
    "\n",
    "print(f\"Percentage of Verified Twitter accounts: {percentage_true:.2f}%\")\n",
    "print(f\"Percentage of Not Verified Twitter accounts: {percentage_false:.2f}%\")"
   ]
  },
  {
   "cell_type": "code",
   "execution_count": null,
   "id": "df908970",
   "metadata": {},
   "outputs": [],
   "source": []
  }
 ],
 "metadata": {
  "kernelspec": {
   "display_name": "Python 3 (ipykernel)",
   "language": "python",
   "name": "python3"
  },
  "language_info": {
   "codemirror_mode": {
    "name": "ipython",
    "version": 3
   },
   "file_extension": ".py",
   "mimetype": "text/x-python",
   "name": "python",
   "nbconvert_exporter": "python",
   "pygments_lexer": "ipython3",
   "version": "3.9.13"
  }
 },
 "nbformat": 4,
 "nbformat_minor": 5
}
