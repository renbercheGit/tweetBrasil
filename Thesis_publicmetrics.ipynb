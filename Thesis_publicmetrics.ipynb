{
 "cells": [
  {
   "cell_type": "code",
   "execution_count": 1,
   "id": "5582e64e",
   "metadata": {},
   "outputs": [],
   "source": [
    "import pandas as pd"
   ]
  },
  {
   "cell_type": "code",
   "execution_count": 2,
   "id": "94cbc069",
   "metadata": {},
   "outputs": [
    {
     "data": {
      "text/html": [
       "<div>\n",
       "<style scoped>\n",
       "    .dataframe tbody tr th:only-of-type {\n",
       "        vertical-align: middle;\n",
       "    }\n",
       "\n",
       "    .dataframe tbody tr th {\n",
       "        vertical-align: top;\n",
       "    }\n",
       "\n",
       "    .dataframe thead th {\n",
       "        text-align: right;\n",
       "    }\n",
       "</style>\n",
       "<table border=\"1\" class=\"dataframe\">\n",
       "  <thead>\n",
       "    <tr style=\"text-align: right;\">\n",
       "      <th></th>\n",
       "      <th>tweet</th>\n",
       "      <th>retweet_count</th>\n",
       "      <th>reply_count</th>\n",
       "      <th>like_count</th>\n",
       "      <th>quote_count</th>\n",
       "    </tr>\n",
       "  </thead>\n",
       "  <tbody>\n",
       "    <tr>\n",
       "      <th>0</th>\n",
       "      <td>1000016383915253765</td>\n",
       "      <td>0</td>\n",
       "      <td>2</td>\n",
       "      <td>1</td>\n",
       "      <td>0</td>\n",
       "    </tr>\n",
       "    <tr>\n",
       "      <th>1</th>\n",
       "      <td>1000016491390099456</td>\n",
       "      <td>0</td>\n",
       "      <td>0</td>\n",
       "      <td>0</td>\n",
       "      <td>0</td>\n",
       "    </tr>\n",
       "    <tr>\n",
       "      <th>2</th>\n",
       "      <td>1000016689931653123</td>\n",
       "      <td>0</td>\n",
       "      <td>0</td>\n",
       "      <td>1</td>\n",
       "      <td>1</td>\n",
       "    </tr>\n",
       "    <tr>\n",
       "      <th>3</th>\n",
       "      <td>1000016951853318145</td>\n",
       "      <td>0</td>\n",
       "      <td>0</td>\n",
       "      <td>0</td>\n",
       "      <td>0</td>\n",
       "    </tr>\n",
       "    <tr>\n",
       "      <th>4</th>\n",
       "      <td>1000017172918358016</td>\n",
       "      <td>0</td>\n",
       "      <td>3</td>\n",
       "      <td>1</td>\n",
       "      <td>0</td>\n",
       "    </tr>\n",
       "    <tr>\n",
       "      <th>5</th>\n",
       "      <td>1000017631733272577</td>\n",
       "      <td>0</td>\n",
       "      <td>6</td>\n",
       "      <td>31</td>\n",
       "      <td>1</td>\n",
       "    </tr>\n",
       "    <tr>\n",
       "      <th>6</th>\n",
       "      <td>1000017703409737728</td>\n",
       "      <td>0</td>\n",
       "      <td>1</td>\n",
       "      <td>0</td>\n",
       "      <td>0</td>\n",
       "    </tr>\n",
       "    <tr>\n",
       "      <th>7</th>\n",
       "      <td>1000017730848911360</td>\n",
       "      <td>0</td>\n",
       "      <td>0</td>\n",
       "      <td>0</td>\n",
       "      <td>0</td>\n",
       "    </tr>\n",
       "    <tr>\n",
       "      <th>8</th>\n",
       "      <td>1000018366382342144</td>\n",
       "      <td>0</td>\n",
       "      <td>0</td>\n",
       "      <td>1</td>\n",
       "      <td>0</td>\n",
       "    </tr>\n",
       "    <tr>\n",
       "      <th>9</th>\n",
       "      <td>1000018971494617089</td>\n",
       "      <td>0</td>\n",
       "      <td>0</td>\n",
       "      <td>0</td>\n",
       "      <td>0</td>\n",
       "    </tr>\n",
       "  </tbody>\n",
       "</table>\n",
       "</div>"
      ],
      "text/plain": [
       "                 tweet  retweet_count  reply_count  like_count  quote_count\n",
       "0  1000016383915253765              0            2           1            0\n",
       "1  1000016491390099456              0            0           0            0\n",
       "2  1000016689931653123              0            0           1            1\n",
       "3  1000016951853318145              0            0           0            0\n",
       "4  1000017172918358016              0            3           1            0\n",
       "5  1000017631733272577              0            6          31            1\n",
       "6  1000017703409737728              0            1           0            0\n",
       "7  1000017730848911360              0            0           0            0\n",
       "8  1000018366382342144              0            0           1            0\n",
       "9  1000018971494617089              0            0           0            0"
      ]
     },
     "execution_count": 2,
     "metadata": {},
     "output_type": "execute_result"
    }
   ],
   "source": [
    "df =  pd.read_csv('public_metrics.csv',  sep=';;', on_bad_lines='skip',lineterminator='\\r', engine ='python')\n",
    "df.head(10)"
   ]
  },
  {
   "cell_type": "code",
   "execution_count": 3,
   "id": "008ab269",
   "metadata": {},
   "outputs": [
    {
     "name": "stdout",
     "output_type": "stream",
     "text": [
      "Sum of retweets: 155784069\n",
      "Sum of replies: 121044\n",
      "Sum of likes: 1229057\n",
      "Sum of quotations: 37597\n"
     ]
    }
   ],
   "source": [
    "# Calculate the sum of each column\n",
    "sum_retweet_count = df['retweet_count'].sum()\n",
    "sum_reply_count = df['reply_count'].sum()\n",
    "sum_like_count = df['like_count'].sum()\n",
    "sum_quote_count = df['quote_count'].sum()\n",
    "\n",
    "# Print the sums\n",
    "print(\"Sum of retweets:\", sum_retweet_count)\n",
    "print(\"Sum of replies:\", sum_reply_count)\n",
    "print(\"Sum of likes:\", sum_like_count)\n",
    "print(\"Sum of quotations:\", sum_quote_count)"
   ]
  },
  {
   "cell_type": "code",
   "execution_count": 9,
   "id": "517733b9",
   "metadata": {},
   "outputs": [
    {
     "name": "stdout",
     "output_type": "stream",
     "text": [
      "Median of likes: 0.0\n"
     ]
    }
   ],
   "source": [
    "# Calculate the median\n",
    "median_like_count = df['like_count'].median()\n",
    "\n",
    "# Print the median\n",
    "print(\"Median of likes:\", median_like_count)"
   ]
  },
  {
   "cell_type": "code",
   "execution_count": 8,
   "id": "6cfb2a74",
   "metadata": {},
   "outputs": [
    {
     "name": "stdout",
     "output_type": "stream",
     "text": [
      "Median of RT: 1.0\n"
     ]
    }
   ],
   "source": [
    "# Calculate the median\n",
    "median_like_count = df['retweet_count'].median()\n",
    "\n",
    "# Print the median\n",
    "print(\"Median of RT:\", median_like_count)"
   ]
  },
  {
   "cell_type": "code",
   "execution_count": null,
   "id": "20f0b4d3",
   "metadata": {},
   "outputs": [],
   "source": []
  }
 ],
 "metadata": {
  "kernelspec": {
   "display_name": "Python 3 (ipykernel)",
   "language": "python",
   "name": "python3"
  },
  "language_info": {
   "codemirror_mode": {
    "name": "ipython",
    "version": 3
   },
   "file_extension": ".py",
   "mimetype": "text/x-python",
   "name": "python",
   "nbconvert_exporter": "python",
   "pygments_lexer": "ipython3",
   "version": "3.9.13"
  }
 },
 "nbformat": 4,
 "nbformat_minor": 5
}
